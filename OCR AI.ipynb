{
 "cells": [
  {
   "cell_type": "code",
   "execution_count": null,
   "metadata": {
    "colab": {
     "base_uri": "https://localhost:8080/",
     "height": 1000
    },
    "executionInfo": {
     "elapsed": 33860,
     "status": "ok",
     "timestamp": 1703915001512,
     "user": {
      "displayName": "Murphy Choy",
      "userId": "05800419031848466993"
     },
     "user_tz": -480
    },
    "id": "hiHmMfd5t6rV",
    "outputId": "05e9c2ae-49ea-486f-c481-75334b4db675"
   },
   "outputs": [],
   "source": [
    "!pip install ocrmypdf\n",
    "!sudo apt install tesseract-ocr\n",
    "!sudo apt install libtesseract-dev\n",
    "!sudo apt install ghostscript\n",
    "!pip install pytesseract"
   ]
  },
  {
   "cell_type": "code",
   "execution_count": null,
   "metadata": {
    "colab": {
     "base_uri": "https://localhost:8080/"
    },
    "executionInfo": {
     "elapsed": 17754,
     "status": "ok",
     "timestamp": 1703019090065,
     "user": {
      "displayName": "Murphy Choy",
      "userId": "05800419031848466993"
     },
     "user_tz": -480
    },
    "id": "cRv3GvNiuoF7",
    "outputId": "2bf189ca-06b9-49b3-c2e8-98615521e2ff"
   },
   "outputs": [],
   "source": [
    "import logging\n",
    "import sys\n",
    "import os\n",
    "import ocrmypdf\n",
    "from google.colab import drive\n",
    "drive.mount('/content/drive')\n",
    "from ctypes.util import find_library\n",
    "find_library(\"gs\")\n",
    "\n",
    "file_list = []\n",
    "\n",
    "input_folder_path = ''\n",
    "output_folder_path = ''"
   ]
  },
  {
   "cell_type": "code",
   "execution_count": null,
   "metadata": {
    "colab": {
     "base_uri": "https://localhost:8080/"
    },
    "executionInfo": {
     "elapsed": 882,
     "status": "ok",
     "timestamp": 1703019090943,
     "user": {
      "displayName": "Murphy Choy",
      "userId": "05800419031848466993"
     },
     "user_tz": -480
    },
    "id": "RerFFiLk18sv",
    "outputId": "120e49c8-beff-41ff-db8e-9285e9ed7e6c"
   },
   "outputs": [],
   "source": [
    "for filename in os.listdir(input_folder_path):\n",
    "    if filename.endswith(\"pdf\"):\n",
    "      file_list.append(filename)"
   ]
  },
  {
   "cell_type": "code",
   "execution_count": null,
   "metadata": {
    "colab": {
     "background_save": true,
     "base_uri": "https://localhost:8080/"
    },
    "id": "1WPQnRTf1-AF",
    "outputId": "10e437c6-9278-4979-a4e9-857c03a1b7e4"
   },
   "outputs": [],
   "source": [
    "for filename in file_list:\n",
    "  print(\"Converting : \" + filename)\n",
    "  input_filename = input_folder_path+'/'+filename\n",
    "  output_filename = output_folder_path+'/'+filename\n",
    "  !ocrmypdf --deskew --force-ocr \"{input_filename}\" \"{output_filename}\"\n"
   ]
  }
 ],
 "metadata": {
  "colab": {
   "authorship_tag": "ABX9TyMbdO6BnBajIxHX/ElDJtoS",
   "provenance": []
  },
  "kernelspec": {
   "display_name": "Python 3 (ipykernel)",
   "language": "python",
   "name": "python3"
  },
  "language_info": {
   "codemirror_mode": {
    "name": "ipython",
    "version": 3
   },
   "file_extension": ".py",
   "mimetype": "text/x-python",
   "name": "python",
   "nbconvert_exporter": "python",
   "pygments_lexer": "ipython3",
   "version": "3.12.7"
  }
 },
 "nbformat": 4,
 "nbformat_minor": 4
}
